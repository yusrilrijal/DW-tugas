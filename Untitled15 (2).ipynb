{
 "cells": [
  {
   "cell_type": "code",
   "execution_count": 105,
   "id": "f788dbbd",
   "metadata": {},
   "outputs": [
    {
     "name": "stdout",
     "output_type": "stream",
     "text": [
      "Nama:  HONDA AHASS 00663 BENTENG MOTOR SURABAYA\n",
      "Alamat:  Jl. Benteng No.18, Ujung, Kec. Semampir, Kota SBY, Jawa Timur 60162, Indonesia\n",
      "\n",
      "Nama:  Universal Bike HQ\n",
      "Alamat:  Jl. Raya Kalirungkut No.147, Kali Rungkut, Kec. Rungkut, Kota SBY, Jawa Timur 60293, Indonesia\n",
      "\n",
      "Nama:  Sun Rise Motor Tidar\n",
      "Alamat:  Jl. Tidar No.292, Tembok Dukuh, Kec. Bubutan, Kota SBY, Jawa Timur 60252, Indonesia\n",
      "\n"
     ]
    }
   ],
   "source": [
    "#1 Cari dari website (maksimal 3) apapun data kontak bengkel kendaraan bermotor yang ada di daerah surabaya dan sekitarnya. Data kontak terdiri dari\n",
    "\n",
    "import requests\n",
    "from bs4 import BeautifulSoup\n",
    "\n",
    "url = \"https://www.autofun.co.id/bengkel-motor/kota-surabaya\"\n",
    "response = requests.get(url)\n",
    "\n",
    "soup = BeautifulSoup(response.content, \"html.parser\")\n",
    "\n",
    "bengkel_list = soup.find_all(\"div\", class_=\"text-cont\")\n",
    "\n",
    "count = 0  \n",
    "for bengkel in bengkel_list:\n",
    "    nama = bengkel.find(\"a\").text\n",
    "    alamat = bengkel.find(\"p\", class_=\"location wa-ellipsis-2\").text\n",
    "    # nomor_telepon = bengkel.find(\"p\", class_=\"phone\").text\n",
    "\n",
    "    print(\"Nama: \", nama)\n",
    "    print(\"Alamat: \", alamat)\n",
    "    # print(\"Nomor Telepon: \", nomor_telepon)\n",
    "    print()\n",
    "\n",
    "    count += 1  \n",
    "\n",
    "    if count == 3:  \n",
    "        break\n"
   ]
  },
  {
   "cell_type": "code",
   "execution_count": 106,
   "id": "152fe686",
   "metadata": {},
   "outputs": [
    {
     "name": "stdout",
     "output_type": "stream",
     "text": [
      "                                       Nama  \\\n",
      "0  HONDA AHASS 00663 BENTENG MOTOR SURABAYA   \n",
      "1                         Universal Bike HQ   \n",
      "2                      Sun Rise Motor Tidar   \n",
      "\n",
      "                                              Alamat  \n",
      "0  Jl. Benteng No.18, Ujung, Kec. Semampir, Kota ...  \n",
      "1  Jl. Raya Kalirungkut No.147, Kali Rungkut, Kec...  \n",
      "2  Jl. Tidar No.292, Tembok Dukuh, Kec. Bubutan, ...  \n"
     ]
    }
   ],
   "source": [
    "# memisah\n",
    "\n",
    "import requests\n",
    "from bs4 import BeautifulSoup\n",
    "import pandas as pd\n",
    "\n",
    "url = \"https://www.autofun.co.id/bengkel-motor/kota-surabaya\"\n",
    "response = requests.get(url)\n",
    "\n",
    "soup = BeautifulSoup(response.content, \"html.parser\")\n",
    "\n",
    "bengkel_list = soup.find_all(\"div\", class_=\"text-cont\")\n",
    "\n",
    "data = []\n",
    "for bengkel in bengkel_list:\n",
    "    nama = bengkel.find(\"a\").text\n",
    "    alamat = bengkel.find(\"p\", class_=\"location wa-ellipsis-2\").text\n",
    "    # nomor_telepon = bengkel.find(\"p\", class_=\"phone\").text\n",
    "\n",
    "    data.append({\n",
    "        \"Nama\": nama,\n",
    "        \"Alamat\": alamat,\n",
    "        # \"Nomor Telepon\": nomor_telepon\n",
    "    })\n",
    "\n",
    "df = pd.DataFrame(data)\n",
    "\n",
    "# Batasi jumlah data menjadi 3\n",
    "df = df.head(3)\n",
    "\n",
    "print(df)\n",
    "\n"
   ]
  },
  {
   "cell_type": "code",
   "execution_count": 107,
   "id": "daa35cbd",
   "metadata": {},
   "outputs": [
    {
     "name": "stdout",
     "output_type": "stream",
     "text": [
      "                                            Nama  \\\n",
      "count                                          3   \n",
      "unique                                         3   \n",
      "top     HONDA AHASS 00663 BENTENG MOTOR SURABAYA   \n",
      "freq                                           1   \n",
      "\n",
      "                                                   Alamat  \n",
      "count                                                   3  \n",
      "unique                                                  3  \n",
      "top     Jl. Benteng No.18, Ujung, Kec. Semampir, Kota ...  \n",
      "freq                                                    1  \n"
     ]
    }
   ],
   "source": [
    "#2 Buatlah staDsDk deskripDf dari data yang didapatkan\n",
    "print(df.describe())"
   ]
  },
  {
   "cell_type": "code",
   "execution_count": 109,
   "id": "b32de09a",
   "metadata": {},
   "outputs": [
    {
     "name": "stdout",
     "output_type": "stream",
     "text": [
      "Statistik Deskriptif untuk Kolom Nama:\n",
      "Jumlah Data: 3\n",
      "Jumlah Data Unik: 3\n",
      "Data pertama: HONDA AHASS 00663 BENTENG MOTOR SURABAYA\n",
      "\n",
      "Statistik Deskriptif untuk Kolom Alamat:\n",
      "Jumlah Data: 3\n",
      "Jumlah Data Unik: 3\n",
      "Data pertama: Jl. Benteng No.18, Ujung, Kec. Semampir, Kota SBY, Jawa Timur 60162, Indonesia\n"
     ]
    }
   ],
   "source": [
    "#staDsDk deskripDf dari data yang didapatkan \n",
    "\n",
    "import requests\n",
    "from bs4 import BeautifulSoup\n",
    "import pandas as pd\n",
    "\n",
    "url = \"https://www.autofun.co.id/bengkel-motor/kota-surabaya\"\n",
    "response = requests.get(url)\n",
    "\n",
    "soup = BeautifulSoup(response.content, \"html.parser\")\n",
    "\n",
    "bengkel_list = soup.find_all(\"div\", class_=\"text-cont\")\n",
    "\n",
    "data = []\n",
    "for bengkel in bengkel_list:\n",
    "    nama = bengkel.find(\"a\").text\n",
    "    alamat = bengkel.find(\"p\", class_=\"location wa-ellipsis-2\").text\n",
    "\n",
    "    data.append({\n",
    "        \"Nama\": nama,\n",
    "        \"Alamat\": alamat,\n",
    "    })\n",
    "\n",
    "df = pd.DataFrame(data)\n",
    "\n",
    "# Batasi jumlah data menjadi 3\n",
    "df = df.head(3)\n",
    "\n",
    "nama_stats = {\n",
    "    \"Jumlah Data\": len(df),\n",
    "    \"Jumlah Data Unik\": df[\"Nama\"].nunique(),\n",
    "    \"Data pertama\": df[\"Nama\"].value_counts().idxmax(),\n",
    "}\n",
    "\n",
    "alamat_stats = {\n",
    "    \"Jumlah Data\": len(df),\n",
    "    \"Jumlah Data Unik\": df[\"Alamat\"].nunique(),\n",
    "    \"Data pertama\": df[\"Alamat\"].value_counts().idxmax(),\n",
    "}\n",
    "\n",
    "print(\"Statistik Deskriptif untuk Kolom Nama:\")\n",
    "for stat, value in nama_stats.items():\n",
    "    print(f\"{stat}: {value}\")\n",
    "print()\n",
    "\n",
    "print(\"Statistik Deskriptif untuk Kolom Alamat:\")\n",
    "for stat, value in alamat_stats.items():\n",
    "    print(f\"{stat}: {value}\")\n",
    "\n"
   ]
  },
  {
   "cell_type": "code",
   "execution_count": 8,
   "id": "d3ce1e12",
   "metadata": {},
   "outputs": [
    {
     "name": "stdout",
     "output_type": "stream",
     "text": [
      "Data Pertama:\n",
      "                                       Nama  \\\n",
      "0  HONDA AHASS 00663 BENTENG MOTOR SURABAYA   \n",
      "\n",
      "                                              Alamat  \n",
      "0  Jl. Benteng No.18, Ujung, Kec. Semampir, Kota ...  \n",
      "\n",
      "Data Terakhir:\n",
      "                         Nama  \\\n",
      "14  Suma Parts Shop Mojokerto   \n",
      "\n",
      "                                               Alamat  \n",
      "14  Ruko Bhayangkara, Blok D No.101, Jl. Bhayangka...  \n",
      "\n"
     ]
    }
   ],
   "source": [
    "import requests\n",
    "from bs4 import BeautifulSoup\n",
    "import pandas as pd\n",
    "\n",
    "url = \"https://www.autofun.co.id/bengkel-motor/kota-surabaya\"\n",
    "response = requests.get(url)\n",
    "\n",
    "soup = BeautifulSoup(response.content, \"html.parser\")\n",
    "\n",
    "bengkel_list = soup.find_all(\"div\", class_=\"text-cont\")\n",
    "\n",
    "data = []\n",
    "for bengkel in bengkel_list:\n",
    "    nama = bengkel.find(\"a\").text\n",
    "    alamat = bengkel.find(\"p\", class_=\"location wa-ellipsis-2\").text\n",
    "\n",
    "    data.append({\n",
    "        \"Nama\": nama,\n",
    "        \"Alamat\": alamat,\n",
    "    })\n",
    "\n",
    "df = pd.DataFrame(data)\n",
    "\n",
    "# Menampilkan data pertama\n",
    "data_pertama = df.head(1)\n",
    "print(\"Data Pertama:\")\n",
    "print(data_pertama)\n",
    "print()\n",
    "\n",
    "# Menampilkan data terakhir\n",
    "data_terakhir = df.tail(1)\n",
    "print(\"Data Terakhir:\")\n",
    "print(data_terakhir)\n",
    "print()\n"
   ]
  },
  {
   "cell_type": "code",
   "execution_count": 99,
   "id": "bb7fb2c3",
   "metadata": {},
   "outputs": [
    {
     "data": {
      "text/html": [
       "<div>\n",
       "<style scoped>\n",
       "    .dataframe tbody tr th:only-of-type {\n",
       "        vertical-align: middle;\n",
       "    }\n",
       "\n",
       "    .dataframe tbody tr th {\n",
       "        vertical-align: top;\n",
       "    }\n",
       "\n",
       "    .dataframe thead th {\n",
       "        text-align: right;\n",
       "    }\n",
       "</style>\n",
       "<table border=\"1\" class=\"dataframe\">\n",
       "  <thead>\n",
       "    <tr style=\"text-align: right;\">\n",
       "      <th></th>\n",
       "      <th>Nama_pereview</th>\n",
       "      <th>Review</th>\n",
       "    </tr>\n",
       "  </thead>\n",
       "  <tbody>\n",
       "    <tr>\n",
       "      <th>0</th>\n",
       "      <td>\\nDefri A.\\n</td>\n",
       "      <td>ganti oli tanpa antri disini &amp; pakai tools HIG...</td>\n",
       "    </tr>\n",
       "    <tr>\n",
       "      <th>1</th>\n",
       "      <td>\\nMoch L.\\n</td>\n",
       "      <td>Ganti oli tanpa antri + pakai alat sedot oli &amp;...</td>\n",
       "    </tr>\n",
       "    <tr>\n",
       "      <th>2</th>\n",
       "      <td>\\nHarsito S.\\n</td>\n",
       "      <td>Ganti oli tidak antri di ahass ini</td>\n",
       "    </tr>\n",
       "  </tbody>\n",
       "</table>\n",
       "</div>"
      ],
      "text/plain": [
       "    Nama_pereview                                             Review\n",
       "0    \\nDefri A.\\n  ganti oli tanpa antri disini & pakai tools HIG...\n",
       "1     \\nMoch L.\\n  Ganti oli tanpa antri + pakai alat sedot oli &...\n",
       "2  \\nHarsito S.\\n                 Ganti oli tidak antri di ahass ini"
      ]
     },
     "execution_count": 99,
     "metadata": {},
     "output_type": "execute_result"
    }
   ],
   "source": [
    "#3 Pilih salah satu dari daGar yang sudah didapatkan dan dapatkan pendapat publik (komentar) mengenai bengkel tersebut beberapa website (maksimal 3)\n",
    "import requests\n",
    "from bs4 import BeautifulSoup\n",
    "import pandas as pd\n",
    "\n",
    "url = \"https://nicelocal.id/surabaya/autoservice/pos_honda_ahass_benteng_motor/\"\n",
    "response = requests.get(url)\n",
    "\n",
    "soup = BeautifulSoup(response.content, \"html.parser\")\n",
    "\n",
    "review_section = soup.find_all(\"div\", class_=\"comment-container-wrapper js-comment-container-wrapper\")\n",
    "\n",
    "data_rev = []\n",
    "for review in review_section:\n",
    "    nama_pereview = review.find(\"span\", class_=\"name\")\n",
    "    review_text = review.find(\"span\", class_=\"js-comment-content\")\n",
    "    \n",
    "    if nama_pereview is not None and review_text is not None:\n",
    "        data_rev.append({\n",
    "            \"Nama_pereview\": nama_pereview.text,\n",
    "            \"Review\": review_text.text,\n",
    "        })\n",
    "        \n",
    "data_rev = data_rev[:3]\n",
    "df = pd.DataFrame(data_rev)\n",
    "df\n"
   ]
  },
  {
   "cell_type": "code",
   "execution_count": 100,
   "id": "0fcb6304",
   "metadata": {},
   "outputs": [
    {
     "name": "stdout",
     "output_type": "stream",
     "text": [
      "       Nama_pereview                                             Review\n",
      "count              3                                                  3\n",
      "unique             3                                                  3\n",
      "top     \\nDefri A.\\n  ganti oli tanpa antri disini & pakai tools HIG...\n",
      "freq               1                                                  1\n"
     ]
    }
   ],
   "source": [
    "#4 Buatlah staDsDk deskripDf dari data yang didapatkan\n",
    "print(df.describe())"
   ]
  },
  {
   "cell_type": "code",
   "execution_count": 102,
   "id": "5cde3f67",
   "metadata": {},
   "outputs": [
    {
     "name": "stdout",
     "output_type": "stream",
     "text": [
      "Data Pertama:\n",
      "  Nama_pereview                                             Review\n",
      "0  \\nDefri A.\\n  ganti oli tanpa antri disini & pakai tools HIG...\n",
      "\n",
      "Data Terakhir:\n",
      "    Nama_pereview                              Review\n",
      "2  \\nHarsito S.\\n  Ganti oli tidak antri di ahass ini\n",
      "\n"
     ]
    }
   ],
   "source": [
    "# Data pertama\n",
    "data_pertama = df.head(1)\n",
    "print(\"Data Pertama:\")\n",
    "print(data_pertama)\n",
    "print()\n",
    "\n",
    "# Data terakhir\n",
    "data_terakhir = df.tail(1)\n",
    "print(\"Data Terakhir:\")\n",
    "print(data_terakhir)\n",
    "print()"
   ]
  },
  {
   "cell_type": "code",
   "execution_count": null,
   "id": "3dab6760",
   "metadata": {},
   "outputs": [],
   "source": [
    "\n"
   ]
  },
  {
   "cell_type": "code",
   "execution_count": 41,
   "id": "6061c0a0",
   "metadata": {},
   "outputs": [
    {
     "ename": "AttributeError",
     "evalue": "'function' object has no attribute 'all'",
     "output_type": "error",
     "traceback": [
      "\u001b[1;31m---------------------------------------------------------------------------\u001b[0m",
      "\u001b[1;31mAttributeError\u001b[0m                            Traceback (most recent call last)",
      "Cell \u001b[1;32mIn[41], line 10\u001b[0m\n\u001b[0;32m      6\u001b[0m response \u001b[38;5;241m=\u001b[39m requests\u001b[38;5;241m.\u001b[39mget(url)\n\u001b[0;32m      8\u001b[0m soup \u001b[38;5;241m=\u001b[39m BeautifulSoup(response\u001b[38;5;241m.\u001b[39mcontent, \u001b[38;5;124m\"\u001b[39m\u001b[38;5;124mhtml.parser\u001b[39m\u001b[38;5;124m\"\u001b[39m)\n\u001b[1;32m---> 10\u001b[0m review_section \u001b[38;5;241m=\u001b[39m \u001b[43msoup\u001b[49m\u001b[38;5;241;43m.\u001b[39;49m\u001b[43mfind\u001b[49m\u001b[38;5;241;43m.\u001b[39;49m\u001b[43mall\u001b[49m(\u001b[38;5;124m\"\u001b[39m\u001b[38;5;124mdiv\u001b[39m\u001b[38;5;124m\"\u001b[39m, class_\u001b[38;5;241m=\u001b[39m\u001b[38;5;124m\"\u001b[39m\u001b[38;5;124mlist-layout wa-petrol-station-reviews vertical-list\u001b[39m\u001b[38;5;124m\"\u001b[39m)\n\u001b[0;32m     13\u001b[0m data_rev \u001b[38;5;241m=\u001b[39m []\n\u001b[0;32m     14\u001b[0m \u001b[38;5;28;01mfor\u001b[39;00m review \u001b[38;5;129;01min\u001b[39;00m reviews:\n",
      "\u001b[1;31mAttributeError\u001b[0m: 'function' object has no attribute 'all'"
     ]
    }
   ],
   "source": []
  },
  {
   "cell_type": "code",
   "execution_count": null,
   "id": "9e2c4093",
   "metadata": {},
   "outputs": [],
   "source": []
  },
  {
   "cell_type": "code",
   "execution_count": 47,
   "id": "812e7e31",
   "metadata": {},
   "outputs": [
    {
     "name": "stdout",
     "output_type": "stream",
     "text": [
      "  Nama_pereview                                             Review\n",
      "0     Jefriyann  Pelayanannya bagus ramah.\\nTempat tunggu enak ...\n"
     ]
    }
   ],
   "source": []
  },
  {
   "cell_type": "code",
   "execution_count": 54,
   "id": "3f84a668",
   "metadata": {},
   "outputs": [
    {
     "name": "stdout",
     "output_type": "stream",
     "text": [
      "Empty DataFrame\n",
      "Columns: []\n",
      "Index: []\n"
     ]
    }
   ],
   "source": []
  },
  {
   "cell_type": "code",
   "execution_count": 57,
   "id": "97fb51fa",
   "metadata": {},
   "outputs": [
    {
     "name": "stdout",
     "output_type": "stream",
     "text": [
      "  Nama_pereview                                             Review\n",
      "0     Jefriyann  Pelayanannya bagus ramah.\\nTempat tunggu enak ...\n"
     ]
    }
   ],
   "source": []
  },
  {
   "cell_type": "code",
   "execution_count": 67,
   "id": "a66de289",
   "metadata": {},
   "outputs": [
    {
     "data": {
      "text/html": [
       "<div>\n",
       "<style scoped>\n",
       "    .dataframe tbody tr th:only-of-type {\n",
       "        vertical-align: middle;\n",
       "    }\n",
       "\n",
       "    .dataframe tbody tr th {\n",
       "        vertical-align: top;\n",
       "    }\n",
       "\n",
       "    .dataframe thead th {\n",
       "        text-align: right;\n",
       "    }\n",
       "</style>\n",
       "<table border=\"1\" class=\"dataframe\">\n",
       "  <thead>\n",
       "    <tr style=\"text-align: right;\">\n",
       "      <th></th>\n",
       "      <th>Nama_pereview</th>\n",
       "      <th>Review</th>\n",
       "    </tr>\n",
       "  </thead>\n",
       "  <tbody>\n",
       "    <tr>\n",
       "      <th>0</th>\n",
       "      <td>[Jefriyann]</td>\n",
       "      <td>Pelayanannya bagus ramah.\\nTempat tunggu enak ...</td>\n",
       "    </tr>\n",
       "  </tbody>\n",
       "</table>\n",
       "</div>"
      ],
      "text/plain": [
       "  Nama_pereview                                             Review\n",
       "0   [Jefriyann]  Pelayanannya bagus ramah.\\nTempat tunggu enak ..."
      ]
     },
     "execution_count": 67,
     "metadata": {},
     "output_type": "execute_result"
    }
   ],
   "source": []
  },
  {
   "cell_type": "code",
   "execution_count": null,
   "id": "32f316af",
   "metadata": {},
   "outputs": [],
   "source": []
  },
  {
   "cell_type": "code",
   "execution_count": null,
   "id": "24f8adac",
   "metadata": {},
   "outputs": [],
   "source": []
  },
  {
   "cell_type": "code",
   "execution_count": 14,
   "id": "d54a8824",
   "metadata": {
    "scrolled": true
   },
   "outputs": [
    {
     "name": "stdout",
     "output_type": "stream",
     "text": [
      "Data Pertama:\n",
      "                                       Nama  \\\n",
      "0  HONDA AHASS 00663 BENTENG MOTOR SURABAYA   \n",
      "\n",
      "                                              Alamat  \n",
      "0  Jl. Benteng No.18, Ujung, Kec. Semampir, Kota ...  \n",
      "\n",
      "Data Terakhir:\n",
      "                         Nama  \\\n",
      "14  Suma Parts Shop Mojokerto   \n",
      "\n",
      "                                               Alamat  \n",
      "14  Ruko Bhayangkara, Blok D No.101, Jl. Bhayangka...  \n",
      "\n"
     ]
    },
    {
     "data": {
      "text/html": [
       "<div>\n",
       "<style scoped>\n",
       "    .dataframe tbody tr th:only-of-type {\n",
       "        vertical-align: middle;\n",
       "    }\n",
       "\n",
       "    .dataframe tbody tr th {\n",
       "        vertical-align: top;\n",
       "    }\n",
       "\n",
       "    .dataframe thead th {\n",
       "        text-align: right;\n",
       "    }\n",
       "</style>\n",
       "<table border=\"1\" class=\"dataframe\">\n",
       "  <thead>\n",
       "    <tr style=\"text-align: right;\">\n",
       "      <th></th>\n",
       "      <th>Nama</th>\n",
       "      <th>Alamat</th>\n",
       "    </tr>\n",
       "  </thead>\n",
       "  <tbody>\n",
       "    <tr>\n",
       "      <th>0</th>\n",
       "      <td>HONDA AHASS 00663 BENTENG MOTOR SURABAYA</td>\n",
       "      <td>Jl. Benteng No.18, Ujung, Kec. Semampir, Kota ...</td>\n",
       "    </tr>\n",
       "    <tr>\n",
       "      <th>1</th>\n",
       "      <td>Universal Bike HQ</td>\n",
       "      <td>Jl. Raya Kalirungkut No.147, Kali Rungkut, Kec...</td>\n",
       "    </tr>\n",
       "    <tr>\n",
       "      <th>2</th>\n",
       "      <td>Sun Rise Motor Tidar</td>\n",
       "      <td>Jl. Tidar No.292, Tembok Dukuh, Kec. Bubutan, ...</td>\n",
       "    </tr>\n",
       "    <tr>\n",
       "      <th>3</th>\n",
       "      <td>Bengkel Cat Mobil Surabaya SIP - Speed Indo Pr...</td>\n",
       "      <td>Jl. Tenggilis Tengah I No.28, Kendangsari, Kec...</td>\n",
       "    </tr>\n",
       "    <tr>\n",
       "      <th>4</th>\n",
       "      <td>Untung Jaya Motor</td>\n",
       "      <td>Banyu Urip Wetan V No.93, Putat Jaya, Kec. Saw...</td>\n",
       "    </tr>\n",
       "    <tr>\n",
       "      <th>5</th>\n",
       "      <td>BENGKEL RIZKY MOTOR</td>\n",
       "      <td>Jl. Ahmad Yani No.198, Megersari, Gedangan, Ke...</td>\n",
       "    </tr>\n",
       "    <tr>\n",
       "      <th>6</th>\n",
       "      <td>Denco Motor</td>\n",
       "      <td>No, Jl. Kapas Krampung No.236, Kota SBY, Jawa ...</td>\n",
       "    </tr>\n",
       "    <tr>\n",
       "      <th>7</th>\n",
       "      <td>Dasyi Jaya Motor</td>\n",
       "      <td>Jl. Raya Pandugo No.44, Penjaringan Sari, Kec....</td>\n",
       "    </tr>\n",
       "    <tr>\n",
       "      <th>8</th>\n",
       "      <td>Bengkel Proff Motor</td>\n",
       "      <td>Jl.Petemon II No.100, Petemon, Kec. Sawahan, K...</td>\n",
       "    </tr>\n",
       "    <tr>\n",
       "      <th>9</th>\n",
       "      <td>Seruling Motor &amp; Knalpot NRP</td>\n",
       "      <td>Dukuh Kupang Timur XX No.16, Pakis, Kec. Sawah...</td>\n",
       "    </tr>\n",
       "    <tr>\n",
       "      <th>10</th>\n",
       "      <td>SONNY Motor</td>\n",
       "      <td>Jl. Letjen Suprapto No.110, Pringgokusuman, Ge...</td>\n",
       "    </tr>\n",
       "    <tr>\n",
       "      <th>11</th>\n",
       "      <td>Kampus Motor</td>\n",
       "      <td>H7H3+XQR, Jl. DR. Soeparno, Arcawinangun, Kec....</td>\n",
       "    </tr>\n",
       "    <tr>\n",
       "      <th>12</th>\n",
       "      <td>Ahass Surya Cipta Pratama</td>\n",
       "      <td>Jl. Dr. Cipto Mamngunkusumo No.82, Sarirejo, K...</td>\n",
       "    </tr>\n",
       "    <tr>\n",
       "      <th>13</th>\n",
       "      <td>Yamaha Sartika Motor</td>\n",
       "      <td>Jl. Dewi Sartika No.131, RT.5/RW.2, Cawang, Ke...</td>\n",
       "    </tr>\n",
       "    <tr>\n",
       "      <th>14</th>\n",
       "      <td>Suma Parts Shop Mojokerto</td>\n",
       "      <td>Ruko Bhayangkara, Blok D No.101, Jl. Bhayangka...</td>\n",
       "    </tr>\n",
       "  </tbody>\n",
       "</table>\n",
       "</div>"
      ],
      "text/plain": [
       "                                                 Nama  \\\n",
       "0            HONDA AHASS 00663 BENTENG MOTOR SURABAYA   \n",
       "1                                   Universal Bike HQ   \n",
       "2                                Sun Rise Motor Tidar   \n",
       "3   Bengkel Cat Mobil Surabaya SIP - Speed Indo Pr...   \n",
       "4                                   Untung Jaya Motor   \n",
       "5                                 BENGKEL RIZKY MOTOR   \n",
       "6                                         Denco Motor   \n",
       "7                                    Dasyi Jaya Motor   \n",
       "8                                 Bengkel Proff Motor   \n",
       "9                        Seruling Motor & Knalpot NRP   \n",
       "10                                        SONNY Motor   \n",
       "11                                       Kampus Motor   \n",
       "12                          Ahass Surya Cipta Pratama   \n",
       "13                               Yamaha Sartika Motor   \n",
       "14                          Suma Parts Shop Mojokerto   \n",
       "\n",
       "                                               Alamat  \n",
       "0   Jl. Benteng No.18, Ujung, Kec. Semampir, Kota ...  \n",
       "1   Jl. Raya Kalirungkut No.147, Kali Rungkut, Kec...  \n",
       "2   Jl. Tidar No.292, Tembok Dukuh, Kec. Bubutan, ...  \n",
       "3   Jl. Tenggilis Tengah I No.28, Kendangsari, Kec...  \n",
       "4   Banyu Urip Wetan V No.93, Putat Jaya, Kec. Saw...  \n",
       "5   Jl. Ahmad Yani No.198, Megersari, Gedangan, Ke...  \n",
       "6   No, Jl. Kapas Krampung No.236, Kota SBY, Jawa ...  \n",
       "7   Jl. Raya Pandugo No.44, Penjaringan Sari, Kec....  \n",
       "8   Jl.Petemon II No.100, Petemon, Kec. Sawahan, K...  \n",
       "9   Dukuh Kupang Timur XX No.16, Pakis, Kec. Sawah...  \n",
       "10  Jl. Letjen Suprapto No.110, Pringgokusuman, Ge...  \n",
       "11  H7H3+XQR, Jl. DR. Soeparno, Arcawinangun, Kec....  \n",
       "12  Jl. Dr. Cipto Mamngunkusumo No.82, Sarirejo, K...  \n",
       "13  Jl. Dewi Sartika No.131, RT.5/RW.2, Cawang, Ke...  \n",
       "14  Ruko Bhayangkara, Blok D No.101, Jl. Bhayangka...  "
      ]
     },
     "execution_count": 14,
     "metadata": {},
     "output_type": "execute_result"
    }
   ],
   "source": []
  }
 ],
 "metadata": {
  "kernelspec": {
   "display_name": "Python 3 (ipykernel)",
   "language": "python",
   "name": "python3"
  },
  "language_info": {
   "codemirror_mode": {
    "name": "ipython",
    "version": 3
   },
   "file_extension": ".py",
   "mimetype": "text/x-python",
   "name": "python",
   "nbconvert_exporter": "python",
   "pygments_lexer": "ipython3",
   "version": "3.10.9"
  }
 },
 "nbformat": 4,
 "nbformat_minor": 5
}
